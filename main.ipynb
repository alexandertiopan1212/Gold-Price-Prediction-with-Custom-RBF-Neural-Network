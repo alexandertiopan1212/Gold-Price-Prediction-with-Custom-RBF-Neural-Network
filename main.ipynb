{
 "cells": [
  {
   "cell_type": "markdown",
   "metadata": {
    "id": "50DSDmCJ3Pj5"
   },
   "source": [
    "# Predicting Gold Prices Using Custom RBF Neural Network"
   ]
  },
  {
   "cell_type": "markdown",
   "metadata": {},
   "source": [
    "### Project Overview"
   ]
  },
  {
   "cell_type": "markdown",
   "metadata": {},
   "source": [
    "This project aims to predict gold prices using a radial basis function (RBF) neural network applied to time series data. After collecting historical gold price data, preprocessing steps involve handling missing values, normalization, and splitting the dataset. The RBF network, implemented via provided code, is trained on the prepared data, with model performance evaluated using metrics like Mean Squared Error (MSE). Deployment involves making predictions on new data while monitoring and updating the model over time for continuous improvement, potentially incorporating additional features and exploring different algorithms for enhanced accuracy."
   ]
  },
  {
   "cell_type": "markdown",
   "metadata": {},
   "source": [
    "### Import Libraries"
   ]
  },
  {
   "cell_type": "code",
   "execution_count": 1,
   "metadata": {},
   "outputs": [
    {
     "name": "stderr",
     "output_type": "stream",
     "text": [
      "2024-03-14 16:46:29.521891: I tensorflow/core/platform/cpu_feature_guard.cc:210] This TensorFlow binary is optimized to use available CPU instructions in performance-critical operations.\n",
      "To enable the following instructions: AVX2 FMA, in other operations, rebuild TensorFlow with the appropriate compiler flags.\n"
     ]
    }
   ],
   "source": [
    "# Utilities\n",
    "import numpy as np\n",
    "import pandas as pd\n",
    "\n",
    "# Sklearn\n",
    "from sklearn.model_selection import train_test_split\n",
    "from sklearn.preprocessing import MinMaxScaler\n",
    "\n",
    "# Deep Learning\n",
    "from keras.models import Sequential\n",
    "from keras.layers import Dense, Dropout\n",
    "from keras.callbacks import EarlyStopping, History\n",
    "from keras.initializers import Initializer\n",
    "import tensorflow.keras.backend as K\n",
    "\n",
    "# Visualization\n",
    "import plotly.graph_objects as go\n",
    "import plotly.io as pio\n",
    "pio.renderers.default = \"svg\" # static plotly\n",
    "import matplotlib.pyplot as plt\n",
    "\n",
    "import warnings\n",
    "warnings.filterwarnings('ignore')\n",
    "warnings.simplefilter('ignore')"
   ]
  },
  {
   "cell_type": "markdown",
   "metadata": {},
   "source": [
    "### Dataset Input"
   ]
  },
  {
   "cell_type": "markdown",
   "metadata": {},
   "source": [
    "Here's what each column represents:\n",
    "* Period: This column indicates the period or time interval during which the gold price was recorded. It is represented by integers.\n",
    "* Gold Price: This column contains the price of gold during the corresponding period. It is represented by floating-point numbers.\n",
    "\n",
    "The dataset contains 1566 entries and consists of two columns: \"Period\" and \"Gold Price\". There are no missing values in either column, as indicated by the \"Non-Null Count\" for both columns."
   ]
  },
  {
   "cell_type": "code",
   "execution_count": 2,
   "metadata": {},
   "outputs": [],
   "source": [
    "df = pd.read_excel('./emazzy.xlsx')"
   ]
  },
  {
   "cell_type": "code",
   "execution_count": 3,
   "metadata": {},
   "outputs": [
    {
     "data": {
      "text/html": [
       "<div>\n",
       "<style scoped>\n",
       "    .dataframe tbody tr th:only-of-type {\n",
       "        vertical-align: middle;\n",
       "    }\n",
       "\n",
       "    .dataframe tbody tr th {\n",
       "        vertical-align: top;\n",
       "    }\n",
       "\n",
       "    .dataframe thead th {\n",
       "        text-align: right;\n",
       "    }\n",
       "</style>\n",
       "<table border=\"1\" class=\"dataframe\">\n",
       "  <thead>\n",
       "    <tr style=\"text-align: right;\">\n",
       "      <th></th>\n",
       "      <th>Period</th>\n",
       "      <th>Gold Price</th>\n",
       "    </tr>\n",
       "  </thead>\n",
       "  <tbody>\n",
       "    <tr>\n",
       "      <th>0</th>\n",
       "      <td>1</td>\n",
       "      <td>1223.8</td>\n",
       "    </tr>\n",
       "    <tr>\n",
       "      <th>1</th>\n",
       "      <td>2</td>\n",
       "      <td>1237.5</td>\n",
       "    </tr>\n",
       "    <tr>\n",
       "      <th>2</th>\n",
       "      <td>3</td>\n",
       "      <td>1243.8</td>\n",
       "    </tr>\n",
       "    <tr>\n",
       "      <th>3</th>\n",
       "      <td>4</td>\n",
       "      <td>1258.0</td>\n",
       "    </tr>\n",
       "    <tr>\n",
       "      <th>4</th>\n",
       "      <td>5</td>\n",
       "      <td>1260.9</td>\n",
       "    </tr>\n",
       "  </tbody>\n",
       "</table>\n",
       "</div>"
      ],
      "text/plain": [
       "   Period  Gold Price\n",
       "0       1      1223.8\n",
       "1       2      1237.5\n",
       "2       3      1243.8\n",
       "3       4      1258.0\n",
       "4       5      1260.9"
      ]
     },
     "execution_count": 3,
     "metadata": {},
     "output_type": "execute_result"
    }
   ],
   "source": [
    "df.head()"
   ]
  },
  {
   "cell_type": "code",
   "execution_count": 4,
   "metadata": {},
   "outputs": [
    {
     "name": "stdout",
     "output_type": "stream",
     "text": [
      "<class 'pandas.core.frame.DataFrame'>\n",
      "RangeIndex: 1566 entries, 0 to 1565\n",
      "Data columns (total 2 columns):\n",
      " #   Column      Non-Null Count  Dtype  \n",
      "---  ------      --------------  -----  \n",
      " 0   Period      1566 non-null   int64  \n",
      " 1   Gold Price  1566 non-null   float64\n",
      "dtypes: float64(1), int64(1)\n",
      "memory usage: 24.6 KB\n"
     ]
    }
   ],
   "source": [
    "df.info()"
   ]
  },
  {
   "cell_type": "markdown",
   "metadata": {},
   "source": [
    "### Custom RBF Layer"
   ]
  },
  {
   "cell_type": "markdown",
   "metadata": {},
   "source": [
    "This code defines a custom layer called RBFLayer, which inherits from the Dense layer in TensorFlow/Keras. It implements a Radial Basis Function (RBF) layer for use in neural networks. In the initialization method, it takes parameters like units, initializer, and betas (which control the width of the RBFs). In the build method, it constructs the layer's weights, specifically the centers of the RBFs, and ensures they are trainable. The call method computes the activations of the RBFs based on the input data and the RBF centers, using the Gaussian radial basis function formula. This layer can be used as a part of a neural network architecture for various tasks such as function approximation or classification."
   ]
  },
  {
   "cell_type": "code",
   "execution_count": 5,
   "metadata": {},
   "outputs": [],
   "source": [
    "# Define RBFLayer class\n",
    "class RBFLayer(Dense):\n",
    "    def __init__(self, units, initializer=None, betas=1.0, **kwargs):\n",
    "        super(RBFLayer, self).__init__(units, **kwargs)\n",
    "        self.betas = betas\n",
    "        self.initializer = initializer\n",
    "\n",
    "    def build(self, input_shape):\n",
    "        assert len(input_shape) >= 2\n",
    "        input_dim = input_shape[-1]\n",
    "\n",
    "        if self.initializer is not None:\n",
    "            self.centers = self.add_weight(name='centers',\n",
    "                                           shape=(self.units, input_dim),\n",
    "                                           initializer=self.initializer,\n",
    "                                           trainable=True)\n",
    "        else:\n",
    "            self.centers = self.add_weight(name='centers',\n",
    "                                           shape=(self.units, input_dim),\n",
    "                                           initializer='uniform',\n",
    "                                           trainable=True)\n",
    "        super(RBFLayer, self).build(input_shape)\n",
    "\n",
    "    def call(self, inputs):\n",
    "        c = self.centers\n",
    "        x = inputs[:, None]\n",
    "        distances = K.sum(K.square(x - c), axis=-1)\n",
    "        output = K.exp(-self.betas * distances)\n",
    "        return output"
   ]
  },
  {
   "cell_type": "code",
   "execution_count": 6,
   "metadata": {},
   "outputs": [],
   "source": [
    "# Custom initializer for initializing centers randomly\n",
    "class InitCentersRandom(Initializer):\n",
    "    def __init__(self, X):\n",
    "        self.X = X\n",
    "\n",
    "    def __call__(self, shape, dtype=None):\n",
    "        assert shape[1:] == self.X.shape[1:]\n",
    "        idx = np.random.choice(self.X.shape[0], shape[0], replace=False)\n",
    "        return self.X[idx, :]"
   ]
  },
  {
   "cell_type": "markdown",
   "metadata": {},
   "source": [
    "### Preparing for Training"
   ]
  },
  {
   "cell_type": "code",
   "execution_count": 7,
   "metadata": {},
   "outputs": [],
   "source": [
    "X = df[['Period']].values\n",
    "y = df['Gold Price'].values\n",
    "scaler_X = MinMaxScaler()\n",
    "scaler_y = MinMaxScaler()\n",
    "X_scaled = scaler_X.fit_transform(X)\n",
    "y_scaled = scaler_y.fit_transform(y.reshape(-1, 1))"
   ]
  },
  {
   "cell_type": "code",
   "execution_count": 8,
   "metadata": {},
   "outputs": [],
   "source": [
    "X_train, X_test, y_train, y_test = train_test_split(X_scaled, y_scaled, test_size=0.2, random_state=42)"
   ]
  },
  {
   "cell_type": "markdown",
   "metadata": {},
   "source": [
    "### Build Neural Network Model"
   ]
  },
  {
   "cell_type": "code",
   "execution_count": 9,
   "metadata": {},
   "outputs": [],
   "source": [
    "# Build RBF neural network model\n",
    "model = Sequential([\n",
    "    RBFLayer(1, initializer=InitCentersRandom(X_train), betas=2.0, input_shape=(1,)),\n",
    "    Dense(100, activation='relu'),\n",
    "    Dropout(0.3),\n",
    "    Dense(1)\n",
    "])"
   ]
  },
  {
   "cell_type": "markdown",
   "metadata": {},
   "source": [
    "The provided model is a Sequential neural network architecture consisting of three layers. The first layer is a custom RBFLayer with one unit, initialized with random centers based on the training data X_train, and a beta parameter set to 2.0, representing the width of the radial basis functions. This layer serves as a radial basis function transformation. The second layer is a Dense layer with 100 units and ReLU activation function, followed by a Dropout layer with a dropout rate of 0.3 to prevent overfitting. Finally, there's another Dense layer with one unit, which serves as the output layer. This model is designed for regression tasks, where it learns to predict a continuous output based on the input features."
   ]
  },
  {
   "cell_type": "code",
   "execution_count": 10,
   "metadata": {},
   "outputs": [],
   "source": [
    "model.compile(optimizer='adam', loss='mean_squared_error')"
   ]
  },
  {
   "cell_type": "code",
   "execution_count": 11,
   "metadata": {},
   "outputs": [],
   "source": [
    "early_stopping = EarlyStopping(monitor='val_loss', patience=5, restore_best_weights=True)"
   ]
  },
  {
   "cell_type": "code",
   "execution_count": 12,
   "metadata": {},
   "outputs": [
    {
     "name": "stdout",
     "output_type": "stream",
     "text": [
      "Epoch 1/500\n",
      "\u001b[1m63/63\u001b[0m \u001b[32m━━━━━━━━━━━━━━━━━━━━\u001b[0m\u001b[37m\u001b[0m \u001b[1m1s\u001b[0m 4ms/step - loss: 0.0925 - val_loss: 0.0406\n",
      "Epoch 2/500\n",
      "\u001b[1m63/63\u001b[0m \u001b[32m━━━━━━━━━━━━━━━━━━━━\u001b[0m\u001b[37m\u001b[0m \u001b[1m0s\u001b[0m 2ms/step - loss: 0.0418 - val_loss: 0.0298\n",
      "Epoch 3/500\n",
      "\u001b[1m63/63\u001b[0m \u001b[32m━━━━━━━━━━━━━━━━━━━━\u001b[0m\u001b[37m\u001b[0m \u001b[1m0s\u001b[0m 2ms/step - loss: 0.0293 - val_loss: 0.0220\n",
      "Epoch 4/500\n",
      "\u001b[1m63/63\u001b[0m \u001b[32m━━━━━━━━━━━━━━━━━━━━\u001b[0m\u001b[37m\u001b[0m \u001b[1m0s\u001b[0m 2ms/step - loss: 0.0249 - val_loss: 0.0179\n",
      "Epoch 5/500\n",
      "\u001b[1m63/63\u001b[0m \u001b[32m━━━━━━━━━━━━━━━━━━━━\u001b[0m\u001b[37m\u001b[0m \u001b[1m0s\u001b[0m 2ms/step - loss: 0.0206 - val_loss: 0.0163\n",
      "Epoch 6/500\n",
      "\u001b[1m63/63\u001b[0m \u001b[32m━━━━━━━━━━━━━━━━━━━━\u001b[0m\u001b[37m\u001b[0m \u001b[1m0s\u001b[0m 2ms/step - loss: 0.0171 - val_loss: 0.0144\n",
      "Epoch 7/500\n",
      "\u001b[1m63/63\u001b[0m \u001b[32m━━━━━━━━━━━━━━━━━━━━\u001b[0m\u001b[37m\u001b[0m \u001b[1m0s\u001b[0m 2ms/step - loss: 0.0180 - val_loss: 0.0132\n",
      "Epoch 8/500\n",
      "\u001b[1m63/63\u001b[0m \u001b[32m━━━━━━━━━━━━━━━━━━━━\u001b[0m\u001b[37m\u001b[0m \u001b[1m0s\u001b[0m 3ms/step - loss: 0.0145 - val_loss: 0.0122\n",
      "Epoch 9/500\n",
      "\u001b[1m63/63\u001b[0m \u001b[32m━━━━━━━━━━━━━━━━━━━━\u001b[0m\u001b[37m\u001b[0m \u001b[1m0s\u001b[0m 2ms/step - loss: 0.0139 - val_loss: 0.0115\n",
      "Epoch 10/500\n",
      "\u001b[1m63/63\u001b[0m \u001b[32m━━━━━━━━━━━━━━━━━━━━\u001b[0m\u001b[37m\u001b[0m \u001b[1m0s\u001b[0m 2ms/step - loss: 0.0137 - val_loss: 0.0112\n",
      "Epoch 11/500\n",
      "\u001b[1m63/63\u001b[0m \u001b[32m━━━━━━━━━━━━━━━━━━━━\u001b[0m\u001b[37m\u001b[0m \u001b[1m0s\u001b[0m 2ms/step - loss: 0.0136 - val_loss: 0.0110\n",
      "Epoch 12/500\n",
      "\u001b[1m63/63\u001b[0m \u001b[32m━━━━━━━━━━━━━━━━━━━━\u001b[0m\u001b[37m\u001b[0m \u001b[1m0s\u001b[0m 2ms/step - loss: 0.0123 - val_loss: 0.0108\n",
      "Epoch 13/500\n",
      "\u001b[1m63/63\u001b[0m \u001b[32m━━━━━━━━━━━━━━━━━━━━\u001b[0m\u001b[37m\u001b[0m \u001b[1m0s\u001b[0m 2ms/step - loss: 0.0126 - val_loss: 0.0106\n",
      "Epoch 14/500\n",
      "\u001b[1m63/63\u001b[0m \u001b[32m━━━━━━━━━━━━━━━━━━━━\u001b[0m\u001b[37m\u001b[0m \u001b[1m0s\u001b[0m 2ms/step - loss: 0.0121 - val_loss: 0.0112\n",
      "Epoch 15/500\n",
      "\u001b[1m63/63\u001b[0m \u001b[32m━━━━━━━━━━━━━━━━━━━━\u001b[0m\u001b[37m\u001b[0m \u001b[1m0s\u001b[0m 2ms/step - loss: 0.0114 - val_loss: 0.0103\n",
      "Epoch 16/500\n",
      "\u001b[1m63/63\u001b[0m \u001b[32m━━━━━━━━━━━━━━━━━━━━\u001b[0m\u001b[37m\u001b[0m \u001b[1m0s\u001b[0m 3ms/step - loss: 0.0129 - val_loss: 0.0102\n",
      "Epoch 17/500\n",
      "\u001b[1m63/63\u001b[0m \u001b[32m━━━━━━━━━━━━━━━━━━━━\u001b[0m\u001b[37m\u001b[0m \u001b[1m0s\u001b[0m 2ms/step - loss: 0.0111 - val_loss: 0.0101\n",
      "Epoch 18/500\n",
      "\u001b[1m63/63\u001b[0m \u001b[32m━━━━━━━━━━━━━━━━━━━━\u001b[0m\u001b[37m\u001b[0m \u001b[1m0s\u001b[0m 2ms/step - loss: 0.0108 - val_loss: 0.0102\n",
      "Epoch 19/500\n",
      "\u001b[1m63/63\u001b[0m \u001b[32m━━━━━━━━━━━━━━━━━━━━\u001b[0m\u001b[37m\u001b[0m \u001b[1m0s\u001b[0m 2ms/step - loss: 0.0118 - val_loss: 0.0098\n",
      "Epoch 20/500\n",
      "\u001b[1m63/63\u001b[0m \u001b[32m━━━━━━━━━━━━━━━━━━━━\u001b[0m\u001b[37m\u001b[0m \u001b[1m0s\u001b[0m 2ms/step - loss: 0.0110 - val_loss: 0.0097\n",
      "Epoch 21/500\n",
      "\u001b[1m63/63\u001b[0m \u001b[32m━━━━━━━━━━━━━━━━━━━━\u001b[0m\u001b[37m\u001b[0m \u001b[1m0s\u001b[0m 2ms/step - loss: 0.0099 - val_loss: 0.0096\n",
      "Epoch 22/500\n",
      "\u001b[1m63/63\u001b[0m \u001b[32m━━━━━━━━━━━━━━━━━━━━\u001b[0m\u001b[37m\u001b[0m \u001b[1m0s\u001b[0m 2ms/step - loss: 0.0113 - val_loss: 0.0095\n",
      "Epoch 23/500\n",
      "\u001b[1m63/63\u001b[0m \u001b[32m━━━━━━━━━━━━━━━━━━━━\u001b[0m\u001b[37m\u001b[0m \u001b[1m0s\u001b[0m 2ms/step - loss: 0.0115 - val_loss: 0.0094\n",
      "Epoch 24/500\n",
      "\u001b[1m63/63\u001b[0m \u001b[32m━━━━━━━━━━━━━━━━━━━━\u001b[0m\u001b[37m\u001b[0m \u001b[1m0s\u001b[0m 2ms/step - loss: 0.0097 - val_loss: 0.0094\n",
      "Epoch 25/500\n",
      "\u001b[1m63/63\u001b[0m \u001b[32m━━━━━━━━━━━━━━━━━━━━\u001b[0m\u001b[37m\u001b[0m \u001b[1m0s\u001b[0m 2ms/step - loss: 0.0108 - val_loss: 0.0093\n",
      "Epoch 26/500\n",
      "\u001b[1m63/63\u001b[0m \u001b[32m━━━━━━━━━━━━━━━━━━━━\u001b[0m\u001b[37m\u001b[0m \u001b[1m0s\u001b[0m 2ms/step - loss: 0.0105 - val_loss: 0.0092\n",
      "Epoch 27/500\n",
      "\u001b[1m63/63\u001b[0m \u001b[32m━━━━━━━━━━━━━━━━━━━━\u001b[0m\u001b[37m\u001b[0m \u001b[1m0s\u001b[0m 3ms/step - loss: 0.0097 - val_loss: 0.0090\n",
      "Epoch 28/500\n",
      "\u001b[1m63/63\u001b[0m \u001b[32m━━━━━━━━━━━━━━━━━━━━\u001b[0m\u001b[37m\u001b[0m \u001b[1m0s\u001b[0m 2ms/step - loss: 0.0092 - val_loss: 0.0090\n",
      "Epoch 29/500\n",
      "\u001b[1m63/63\u001b[0m \u001b[32m━━━━━━━━━━━━━━━━━━━━\u001b[0m\u001b[37m\u001b[0m \u001b[1m0s\u001b[0m 2ms/step - loss: 0.0098 - val_loss: 0.0091\n",
      "Epoch 30/500\n",
      "\u001b[1m63/63\u001b[0m \u001b[32m━━━━━━━━━━━━━━━━━━━━\u001b[0m\u001b[37m\u001b[0m \u001b[1m0s\u001b[0m 2ms/step - loss: 0.0097 - val_loss: 0.0091\n",
      "Epoch 31/500\n",
      "\u001b[1m63/63\u001b[0m \u001b[32m━━━━━━━━━━━━━━━━━━━━\u001b[0m\u001b[37m\u001b[0m \u001b[1m0s\u001b[0m 2ms/step - loss: 0.0091 - val_loss: 0.0091\n",
      "Epoch 32/500\n",
      "\u001b[1m63/63\u001b[0m \u001b[32m━━━━━━━━━━━━━━━━━━━━\u001b[0m\u001b[37m\u001b[0m \u001b[1m0s\u001b[0m 2ms/step - loss: 0.0088 - val_loss: 0.0088\n",
      "Epoch 33/500\n",
      "\u001b[1m63/63\u001b[0m \u001b[32m━━━━━━━━━━━━━━━━━━━━\u001b[0m\u001b[37m\u001b[0m \u001b[1m0s\u001b[0m 2ms/step - loss: 0.0096 - val_loss: 0.0088\n",
      "Epoch 34/500\n",
      "\u001b[1m63/63\u001b[0m \u001b[32m━━━━━━━━━━━━━━━━━━━━\u001b[0m\u001b[37m\u001b[0m \u001b[1m0s\u001b[0m 2ms/step - loss: 0.0089 - val_loss: 0.0084\n",
      "Epoch 35/500\n",
      "\u001b[1m63/63\u001b[0m \u001b[32m━━━━━━━━━━━━━━━━━━━━\u001b[0m\u001b[37m\u001b[0m \u001b[1m0s\u001b[0m 2ms/step - loss: 0.0090 - val_loss: 0.0087\n",
      "Epoch 36/500\n",
      "\u001b[1m63/63\u001b[0m \u001b[32m━━━━━━━━━━━━━━━━━━━━\u001b[0m\u001b[37m\u001b[0m \u001b[1m0s\u001b[0m 2ms/step - loss: 0.0091 - val_loss: 0.0084\n",
      "Epoch 37/500\n",
      "\u001b[1m63/63\u001b[0m \u001b[32m━━━━━━━━━━━━━━━━━━━━\u001b[0m\u001b[37m\u001b[0m \u001b[1m0s\u001b[0m 2ms/step - loss: 0.0076 - val_loss: 0.0083\n",
      "Epoch 38/500\n",
      "\u001b[1m63/63\u001b[0m \u001b[32m━━━━━━━━━━━━━━━━━━━━\u001b[0m\u001b[37m\u001b[0m \u001b[1m0s\u001b[0m 3ms/step - loss: 0.0095 - val_loss: 0.0082\n",
      "Epoch 39/500\n",
      "\u001b[1m63/63\u001b[0m \u001b[32m━━━━━━━━━━━━━━━━━━━━\u001b[0m\u001b[37m\u001b[0m \u001b[1m0s\u001b[0m 3ms/step - loss: 0.0087 - val_loss: 0.0080\n",
      "Epoch 40/500\n",
      "\u001b[1m63/63\u001b[0m \u001b[32m━━━━━━━━━━━━━━━━━━━━\u001b[0m\u001b[37m\u001b[0m \u001b[1m0s\u001b[0m 2ms/step - loss: 0.0085 - val_loss: 0.0090\n",
      "Epoch 41/500\n",
      "\u001b[1m63/63\u001b[0m \u001b[32m━━━━━━━━━━━━━━━━━━━━\u001b[0m\u001b[37m\u001b[0m \u001b[1m0s\u001b[0m 4ms/step - loss: 0.0099 - val_loss: 0.0082\n",
      "Epoch 42/500\n",
      "\u001b[1m63/63\u001b[0m \u001b[32m━━━━━━━━━━━━━━━━━━━━\u001b[0m\u001b[37m\u001b[0m \u001b[1m0s\u001b[0m 3ms/step - loss: 0.0088 - val_loss: 0.0079\n",
      "Epoch 43/500\n",
      "\u001b[1m63/63\u001b[0m \u001b[32m━━━━━━━━━━━━━━━━━━━━\u001b[0m\u001b[37m\u001b[0m \u001b[1m0s\u001b[0m 3ms/step - loss: 0.0084 - val_loss: 0.0084\n",
      "Epoch 44/500\n",
      "\u001b[1m63/63\u001b[0m \u001b[32m━━━━━━━━━━━━━━━━━━━━\u001b[0m\u001b[37m\u001b[0m \u001b[1m0s\u001b[0m 3ms/step - loss: 0.0097 - val_loss: 0.0077\n",
      "Epoch 45/500\n",
      "\u001b[1m63/63\u001b[0m \u001b[32m━━━━━━━━━━━━━━━━━━━━\u001b[0m\u001b[37m\u001b[0m \u001b[1m0s\u001b[0m 2ms/step - loss: 0.0086 - val_loss: 0.0076\n",
      "Epoch 46/500\n",
      "\u001b[1m63/63\u001b[0m \u001b[32m━━━━━━━━━━━━━━━━━━━━\u001b[0m\u001b[37m\u001b[0m \u001b[1m0s\u001b[0m 2ms/step - loss: 0.0081 - val_loss: 0.0076\n",
      "Epoch 47/500\n",
      "\u001b[1m63/63\u001b[0m \u001b[32m━━━━━━━━━━━━━━━━━━━━\u001b[0m\u001b[37m\u001b[0m \u001b[1m0s\u001b[0m 2ms/step - loss: 0.0080 - val_loss: 0.0078\n",
      "Epoch 48/500\n",
      "\u001b[1m63/63\u001b[0m \u001b[32m━━━━━━━━━━━━━━━━━━━━\u001b[0m\u001b[37m\u001b[0m \u001b[1m0s\u001b[0m 2ms/step - loss: 0.0077 - val_loss: 0.0074\n",
      "Epoch 49/500\n",
      "\u001b[1m63/63\u001b[0m \u001b[32m━━━━━━━━━━━━━━━━━━━━\u001b[0m\u001b[37m\u001b[0m \u001b[1m0s\u001b[0m 2ms/step - loss: 0.0083 - val_loss: 0.0075\n",
      "Epoch 50/500\n",
      "\u001b[1m63/63\u001b[0m \u001b[32m━━━━━━━━━━━━━━━━━━━━\u001b[0m\u001b[37m\u001b[0m \u001b[1m0s\u001b[0m 2ms/step - loss: 0.0081 - val_loss: 0.0076\n",
      "Epoch 51/500\n",
      "\u001b[1m63/63\u001b[0m \u001b[32m━━━━━━━━━━━━━━━━━━━━\u001b[0m\u001b[37m\u001b[0m \u001b[1m0s\u001b[0m 4ms/step - loss: 0.0088 - val_loss: 0.0075\n",
      "Epoch 52/500\n",
      "\u001b[1m63/63\u001b[0m \u001b[32m━━━━━━━━━━━━━━━━━━━━\u001b[0m\u001b[37m\u001b[0m \u001b[1m0s\u001b[0m 2ms/step - loss: 0.0072 - val_loss: 0.0078\n",
      "Epoch 53/500\n",
      "\u001b[1m63/63\u001b[0m \u001b[32m━━━━━━━━━━━━━━━━━━━━\u001b[0m\u001b[37m\u001b[0m \u001b[1m0s\u001b[0m 2ms/step - loss: 0.0086 - val_loss: 0.0078\n"
     ]
    }
   ],
   "source": [
    "history = model.fit(X_train, y_train, batch_size=16, epochs=500, callbacks=[early_stopping], validation_split=0.2)"
   ]
  },
  {
   "cell_type": "markdown",
   "metadata": {},
   "source": [
    "This log represents the training process of a neural network model across multiple epochs. Each epoch corresponds to a complete pass through the training data. During training, the model aims to minimize a loss function, which measures the discrepancy between predicted and actual values. In this log, \"loss\" refers to the value of this loss function on the training data, while \"val_loss\" refers to the loss on a separate validation dataset. The goal is to achieve low values for both losses, indicating good performance and generalization of the model. The log also provides information about the time taken for each epoch (in seconds) and the loss values achieved. The decreasing trend of both training and validation losses suggests that the model is learning and improving over successive epochs."
   ]
  },
  {
   "cell_type": "code",
   "execution_count": 13,
   "metadata": {},
   "outputs": [
    {
     "data": {
      "image/png": "[encoded data removed]",
      "text/plain": [
       "<Figure size 640x480 with 1 Axes>"
      ]
     },
     "metadata": {},
     "output_type": "display_data"
    }
   ],
   "source": [
    "# Plot learning curves\n",
    "plt.plot(history.history['loss'], label='Training Loss')\n",
    "plt.plot(history.history['val_loss'], label='Validation Loss')\n",
    "plt.title('Learning Curves')\n",
    "plt.xlabel('Epoch')\n",
    "plt.ylabel('Loss')\n",
    "plt.legend()\n",
    "plt.show()"
   ]
  },
  {
   "cell_type": "markdown",
   "metadata": {},
   "source": [
    "### Evaluation"
   ]
  },
  {
   "cell_type": "code",
   "execution_count": 14,
   "metadata": {},
   "outputs": [
    {
     "name": "stdout",
     "output_type": "stream",
     "text": [
      "\u001b[1m10/10\u001b[0m \u001b[32m━━━━━━━━━━━━━━━━━━━━\u001b[0m\u001b[37m\u001b[0m \u001b[1m0s\u001b[0m 2ms/step - loss: 0.0058 \n",
      "\u001b[1m10/10\u001b[0m \u001b[32m━━━━━━━━━━━━━━━━━━━━\u001b[0m\u001b[37m\u001b[0m \u001b[1m0s\u001b[0m 6ms/step\n"
     ]
    }
   ],
   "source": [
    "# Evaluate the model\n",
    "mse = model.evaluate(X_test, y_test)\n",
    "\n",
    "# Make predictions\n",
    "predictions = model.predict(X_test)\n",
    "predictions = scaler_y.inverse_transform(predictions)"
   ]
  },
  {
   "cell_type": "code",
   "execution_count": 15,
   "metadata": {},
   "outputs": [
    {
     "data": {
      "image/svg+xml": [
       "<svg class=\"main-svg\" xmlns=\"http://www.w3.org/2000/svg\" xmlns:xlink=\"http://www.w3.org/1999/xlink\" width=\"1300\" height=\"300\" style=\"\" viewBox=\"0 0 1300 300\"><rect x=\"0\" y=\"0\" width=\"1300\" height=\"300\" style=\"fill: rgb(255, 255, 255); fill-opacity: 1;\"/><defs id=\"defs-ac0875\"><g class=\"clips\"><clipPath id=\"clipac0875xyplot\" class=\"plotclip\"><rect width=\"1140\" height=\"120\"/></clipPath><clipPath class=\"axesclip\" id=\"clipac0875x\"><rect x=\"80\" y=\"0\" width=\"1140\" height=\"300\"/></clipPath><clipPath class=\"axesclip\" id=\"clipac0875y\"><rect x=\"0\" y=\"100\" width=\"1300\" height=\"120\"/></clipPath><clipPath class=\"axesclip\" id=\"clipac0875xy\"><rect x=\"80\" y=\"100\" width=\"1140\" height=\"120\"/></clipPath></g><g class=\"gradients\"/><g class=\"patterns\"/></defs><g class=\"bglayer\"><rect class=\"bg\" x=\"80\" y=\"100\" width=\"1140\" height=\"120\" style=\"fill: rgb(229, 236, 246); fill-opacity: 1; stroke-width: 0;\"/></g><g class=\"layer-below\"><g class=\"imagelayer\"/><g class=\"shapelayer\"/></g><g class=\"cartesianlayer\"><g class=\"subplot xy\"><g class=\"layer-subplot\"><g class=\"shapelayer\"/><g class=\"imagelayer\"/></g><g class=\"minor-gridlayer\"><g class=\"x\"/><g class=\"y\"/></g><g class=\"gridlayer\"><g class=\"x\"><path class=\"xgrid crisp\" transform=\"translate(262.11,0)\" d=\"M0,100v120\" style=\"stroke: rgb(255, 255, 255); stroke-opacity: 1; stroke-width: 1px;\"/><path class=\"xgrid crisp\" transform=\"translate(444.22,0)\" d=\"M0,100v120\" style=\"stroke: rgb(255, 255, 255); stroke-opacity: 1; stroke-width: 1px;\"/><path class=\"xgrid crisp\" transform=\"translate(626.33,0)\" d=\"M0,100v120\" style=\"stroke: rgb(255, 255, 255); stroke-opacity: 1; stroke-width: 1px;\"/><path class=\"xgrid crisp\" transform=\"translate(808.43,0)\" d=\"M0,100v120\" style=\"stroke: rgb(255, 255, 255); stroke-opacity: 1; stroke-width: 1px;\"/><path class=\"xgrid crisp\" transform=\"translate(990.54,0)\" d=\"M0,100v120\" style=\"stroke: rgb(255, 255, 255); stroke-opacity: 1; stroke-width: 1px;\"/><path class=\"xgrid crisp\" transform=\"translate(1172.65,0)\" d=\"M0,100v120\" style=\"stroke: rgb(255, 255, 255); stroke-opacity: 1; stroke-width: 1px;\"/></g><g class=\"y\"><path class=\"ygrid crisp\" transform=\"translate(0,205.95999999999998)\" d=\"M80,0h1140\" style=\"stroke: rgb(255, 255, 255); stroke-opacity: 1; stroke-width: 1px;\"/><path class=\"ygrid crisp\" transform=\"translate(0,181.88)\" d=\"M80,0h1140\" style=\"stroke: rgb(255, 255, 255); stroke-opacity: 1; stroke-width: 1px;\"/><path class=\"ygrid crisp\" transform=\"translate(0,157.8)\" d=\"M80,0h1140\" style=\"stroke: rgb(255, 255, 255); stroke-opacity: 1; stroke-width: 1px;\"/><path class=\"ygrid crisp\" transform=\"translate(0,133.73)\" d=\"M80,0h1140\" style=\"stroke: rgb(255, 255, 255); stroke-opacity: 1; stroke-width: 1px;\"/><path class=\"ygrid crisp\" transform=\"translate(0,109.65)\" d=\"M80,0h1140\" style=\"stroke: rgb(255, 255, 255); stroke-opacity: 1; stroke-width: 1px;\"/></g></g><g class=\"zerolinelayer\"><path class=\"xzl zl crisp\" transform=\"translate(80,0)\" d=\"M0,100v120\" style=\"stroke: rgb(255, 255, 255); stroke-opacity: 1; stroke-width: 2px;\"/></g><path class=\"xlines-below\"/><path class=\"ylines-below\"/><g class=\"overlines-below\"/><g class=\"xaxislayer-below\"/><g class=\"yaxislayer-below\"/><g class=\"overaxes-below\"/><g class=\"plot\" transform=\"translate(80,100)\" clip-path=\"url(#clipac0875xyplot)\"><g class=\"scatterlayer mlayer\"><g class=\"trace scatter trace52b413\" style=\"stroke-miterlimit: 2; opacity: 1;\"><g class=\"fills\"/><g class=\"errorbars\"/><g class=\"lines\"><path class=\"js-line\" d=\"M0,91.03L3.64,97.87L7.28,18.52L10.93,31.45L14.57,91.76L18.21,15.19L21.85,99.08L25.5,100.73L29.14,39.38L32.78,102.82L36.42,89.45L40.06,69.47L43.71,106.75L47.35,92.07L50.99,99.54L54.63,68.53L58.27,96.84L61.92,102.66L65.56,90.52L69.2,16.15L72.84,71.27L76.49,68.07L80.13,106.2L83.77,89.31L87.41,85.61L91.05,18.38L94.7,92.03L98.34,97.52L101.98,94.71L105.62,30.54L109.27,96.92L112.91,56.38L116.55,59.26L120.19,95.59L123.83,90.74L127.48,41.27L131.12,95.33L134.76,88.85L138.4,97.7L142.04,90.55L145.69,68.89L149.33,93.98L152.97,66.65L156.61,95.27L160.26,43.96L163.9,99.48L167.54,100.01L174.82,95.92L178.47,32.71L182.11,21.39L185.75,105.18L189.39,88.9L193.04,90.25L196.68,88.78L200.32,61.4L203.96,96.51L207.6,28.18L211.25,102.51L214.89,45.73L218.53,93.59L222.17,40.6L225.81,96.77L229.46,97.8L233.1,71.2L236.74,26.33L240.38,95.35L244.03,62.28L247.67,96.32L251.31,100.28L254.95,36.02L258.59,42.35L262.24,113.95L265.88,99.07L269.52,14.54L273.16,99.17L276.81,42.35L280.45,62.52L284.09,91.2L287.73,104.33L291.37,36.72L295.02,25.12L298.66,104.61L302.3,104.59L305.94,37.85L309.58,99.16L313.23,99.57L316.87,94.11L320.51,88.43L324.15,55.33L327.8,89.97L331.44,102.51L335.08,99.47L338.72,29.61L342.36,70.23L346.01,74.6L349.65,100.18L353.29,97.15L356.93,58.15L360.58,94.49L364.22,29.8L367.86,71.33L371.5,108.79L375.14,106.89L378.79,64.06L382.43,108.39L386.07,96.39L389.71,31.05L393.35,38.41L397,27.86L400.64,106.02L404.28,41.02L407.92,93.14L411.57,36.76L415.21,92.05L418.85,96.35L422.49,60.99L426.13,102.53L429.78,97.83L433.42,86.64L437.06,90.39L440.7,96.54L444.35,6L447.99,104.74L451.63,74.04L455.27,34.81L458.91,36.28L462.56,19.27L466.2,62.96L469.84,96.68L473.48,33.98L477.12,92.25L480.77,88.37L484.41,21.13L488.05,105.81L491.69,35.92L495.34,22.28L498.98,33.54L502.62,35.64L506.26,95.23L509.9,103.31L513.55,18.68L517.19,93.59L520.83,14.58L524.47,52.3L528.12,16.23L531.76,24.05L535.4,22.2L539.04,70.23L542.68,92.41L546.33,89.98L549.97,25.76L553.61,92.88L557.25,101.64L560.89,33.68L564.54,43.68L568.18,61.17L571.82,90.05L575.46,100.3L579.11,89.08L582.75,61.5L586.39,27.07L590.03,108.67L593.67,32.03L597.32,95.32L600.96,99.31L604.6,91.09L608.24,100.73L611.88,94.83L615.53,20.43L619.17,95.8L622.81,20.49L626.45,25.6L630.1,36.4L633.74,91.36L637.38,95.2L641.02,30.21L644.66,58.84L648.31,114L651.95,97.3L655.59,31.98L659.23,99.89L662.88,37.46L666.52,95.03L670.16,25.48L673.8,37.26L677.44,103.83L681.09,57.37L684.73,102.29L688.37,20L692.01,103.26L695.65,100.25L699.3,63.16L702.94,95.77L706.58,105.38L710.22,96.25L717.51,36.1L721.15,32.69L724.79,22.84L728.43,42.89L732.08,41.83L735.72,39.68L739.36,98.36L743,90.18L746.65,34.78L750.29,95.22L753.93,96.63L757.57,35.66L761.21,100.25L764.86,108.41L768.5,39.06L772.14,73.84L775.78,36.19L779.42,91.37L783.07,11.14L786.71,69.2L790.35,90.92L793.99,92.86L797.64,19.81L801.28,16.47L804.92,106.22L808.56,95.48L812.2,29.69L815.85,90.33L819.49,94.61L823.13,38.7L826.77,92.39L830.42,96.93L834.06,96.39L837.7,12.68L841.34,92.23L844.98,20.92L848.63,78.97L852.27,49.38L855.91,100.05L859.55,105.6L863.19,27.38L866.84,96.63L870.48,100.31L874.12,96.88L881.41,90.26L885.05,21L888.69,92.08L892.33,25.31L895.97,99.41L899.62,94.56L903.26,38.9L906.9,102.36L910.54,95.63L914.19,69.28L917.83,40.37L921.47,91.16L925.11,97.53L928.75,99.04L932.4,74.07L936.04,98.69L939.68,26.94L943.32,69.07L946.96,104.6L950.61,29.22L954.25,47.65L957.89,44.15L961.53,26.88L965.18,110.39L968.82,89.95L972.46,86.85L976.1,24.38L979.74,67.64L983.39,13.39L987.03,22.01L990.67,12.67L994.31,28.89L997.96,88.79L1001.6,35.89L1005.24,101.2L1008.88,35.51L1012.52,43.01L1016.17,78.18L1019.81,67.24L1023.45,46.64L1027.09,40.76L1030.73,32.67L1034.38,102.06L1038.02,102.43L1041.66,16.59L1045.3,35.42L1048.95,98.58L1052.59,29.86L1056.23,32.79L1059.87,96.19L1063.51,12.69L1067.16,31.26L1070.8,23.71L1074.44,94.38L1078.08,32.8L1081.73,38.37L1085.37,99.91L1089.01,23.76L1092.65,68.3L1096.29,28.73L1099.94,102.7L1103.58,105.12L1107.22,34.62L1110.86,20.8L1114.5,89.67L1118.15,41.48L1121.79,106.08L1125.43,62.88L1129.07,15.04L1132.72,90.16L1136.36,90.95L1140,39.77\" style=\"vector-effect: non-scaling-stroke; fill: none; stroke: rgb(99, 110, 250); stroke-opacity: 1; stroke-width: 2px; opacity: 1;\"/></g><g class=\"points\"/><g class=\"text\"/></g><g class=\"trace scatter trace0884b2\" style=\"stroke-miterlimit: 2; opacity: 1;\"><g class=\"fills\"/><g class=\"errorbars\"/><g class=\"lines\"><path class=\"js-line\" d=\"M0,96.54L3.64,97.54L7.28,24.52L10.93,36.53L14.57,97.6L18.21,24.77L21.85,97.01L25.5,97.48L29.14,47.25L32.78,94.73L36.42,97.35L40.06,73.9L43.71,95.66L47.35,87L50.99,97.56L54.63,73.64L58.27,97.6L61.92,95.59L65.56,96.69L69.2,24.65L72.84,67.17L76.49,65.9L80.13,97.6L83.77,96.55L87.41,97.6L91.05,24.81L94.7,96.5L98.34,97.52L101.98,96.46L105.62,45.93L109.27,97.44L112.91,56.76L116.55,58.29L120.19,93.5L123.83,96.8L127.48,47.77L131.12,97.4L142.04,97.6L145.69,73.5L149.33,97.29L152.97,60.94L156.61,83.79L160.26,50.76L163.9,97.6L167.54,94.27L171.18,97.04L174.82,92.19L178.47,32.4L182.11,44.73L185.75,95.97L189.39,97.6L193.04,97.34L196.68,79.88L200.32,57.46L203.96,96.33L207.6,34.4L211.25,97.57L214.89,31.83L218.53,96.36L222.17,31.21L225.81,97.41L229.46,97.6L233.1,67.93L236.74,27.95L240.38,97.6L244.03,57.93L247.67,96.33L251.31,94.21L254.95,36.61L258.59,30.67L262.24,97.6L265.88,97.54L269.52,44.43L273.16,96.27L276.81,31.33L280.45,59.25L284.09,96.73L287.73,97.6L291.37,46.94L295.02,24.48L298.66,95.99L302.3,97.49L305.94,25.12L309.58,97.51L313.23,97.04L320.51,97.6L324.15,56.64L327.8,97.6L331.44,94.94L335.08,97.55L338.72,33.07L342.36,70.5L346.01,64.02L349.65,97.57L353.29,84.2L356.93,55.82L360.58,85.95L364.22,25.87L367.86,65.77L371.5,97.6L375.14,97.6L378.79,59.85L382.43,96.05L386.07,97.41L389.71,45.13L393.35,26.5L397,45.03L400.64,95.87L404.28,31.15L407.92,96.4L411.57,27.9L415.21,91.4L418.85,97.18L422.49,58.53L426.13,96.15L429.78,97.6L433.42,97.6L437.06,79.62L440.7,97.6L444.35,43.66L447.99,97.6L455.27,24.46L458.91,29.72L462.56,39.96L466.2,71.41L469.84,97.1L473.48,32.27L477.12,86.61L480.77,79.75L484.41,38.83L488.05,97.6L491.69,26.17L495.34,39.7L498.98,24.44L502.62,27.44L506.26,97.4L509.9,95.63L513.55,42.42L517.19,88.28L520.83,24.96L524.47,53.08L528.12,24.54L531.76,35.14L535.4,38.24L539.04,65.65L542.68,87.91L546.33,96.76L549.97,37.66L553.61,96.51L557.25,97.59L560.89,26.82L564.54,49.14L568.18,60.57L571.82,96.77L575.46,97.6L579.11,96.61L582.75,55.94L586.39,35.75L590.03,97.6L593.67,24.44L597.32,81.23L600.96,97.53L604.6,97.6L608.24,97.47L611.88,80.56L615.53,24.51L619.17,82.71L622.81,28.41L626.45,33.9L630.1,29.83L633.74,97.6L637.38,81.9L641.02,24.86L644.66,53.31L648.31,97.6L651.95,97.45L655.59,26.67L659.23,97.6L662.88,27.86L666.52,88.53L670.16,33.97L673.8,30.04L677.44,97.57L681.09,56.99L684.73,95.27L688.37,38.16L692.01,96.15L695.65,96.23L699.3,58.05L702.94,97.12L706.58,97.57L710.22,97.13L713.87,59.73L717.51,46.74L721.15,45.73L724.79,35.6L728.43,31.57L732.08,30.33L735.72,25.6L739.36,97.6L743,97.6L746.65,33.21L750.29,97.14L753.93,97.15L757.57,24.61L761.21,97.6L764.86,96.06L768.5,25.62L772.14,65.02L775.78,24.6L779.42,97.6L783.07,24.61L786.71,66.66L790.35,97.6L793.99,97.3L797.64,42.61L801.28,41.4L804.92,95.89L808.56,97.41L812.2,24.44L815.85,96.66L819.49,88.16L823.13,49.57L826.77,97.6L830.42,83.25L834.06,97.51L837.7,42.14L841.34,90.38L844.98,39.18L848.63,77.34L852.27,55.48L855.91,96.23L859.55,97.57L863.19,34.48L866.84,97.55L881.41,96.8L885.05,38.66L888.69,97.37L892.33,44.93L895.97,97.6L899.62,92.69L903.26,25.38L906.9,96.21L910.54,92.08L914.19,66.78L917.83,30.38L921.47,97.33L928.75,97.01L932.4,62.78L936.04,97.58L939.68,27.99L943.32,69.21L946.96,97.6L950.61,24.46L954.25,52.75L957.89,50.21L961.53,33.76L965.18,97.6L968.82,96.54L972.46,97.6L976.1,40.4L979.74,66.15L983.39,24.56L987.03,34.92L990.67,24.92L994.31,34.12L997.96,97.36L1001.6,47.05L1005.24,97.59L1008.88,24.66L1012.52,25.4L1016.17,75.62L1019.81,61.06L1023.45,50.65L1027.09,30.5L1030.73,24.5L1034.38,95.47L1038.02,95.2L1041.66,43.27L1045.3,46.64L1048.95,97.43L1052.59,35.83L1056.23,24.45L1059.87,93.57L1063.51,44.14L1067.16,45.42L1070.8,35.22L1074.44,97.08L1078.08,24.72L1081.73,52.52L1085.37,97.54L1089.01,35.44L1092.65,68.19L1096.29,37.01L1099.94,97.58L1103.58,95.72L1107.22,29.5L1110.86,24.5L1114.5,96.89L1118.15,47.46L1121.79,97.59L1125.43,60.21L1129.07,44.34L1132.72,96.78L1136.36,97.6L1140,26.36\" style=\"vector-effect: non-scaling-stroke; fill: none; stroke: rgb(239, 85, 59); stroke-opacity: 1; stroke-width: 2px; opacity: 1;\"/></g><g class=\"points\"/><g class=\"text\"/></g></g></g><g class=\"overplot\"/><path class=\"xlines-above crisp\" d=\"M0,0\" style=\"fill: none;\"/><path class=\"ylines-above crisp\" d=\"M0,0\" style=\"fill: none;\"/><g class=\"overlines-above\"/><g class=\"xaxislayer-above\"><g class=\"xtick\"><text text-anchor=\"middle\" x=\"0\" y=\"233\" transform=\"translate(80,0)\" style=\"font-family: 'Open Sans', verdana, arial, sans-serif; font-size: 12px; fill: rgb(42, 63, 95); fill-opacity: 1; white-space: pre; opacity: 1;\">0</text></g><g class=\"xtick\"><text text-anchor=\"middle\" x=\"0\" y=\"233\" style=\"font-family: 'Open Sans', verdana, arial, sans-serif; font-size: 12px; fill: rgb(42, 63, 95); fill-opacity: 1; white-space: pre; opacity: 1;\" transform=\"translate(262.11,0)\">50</text></g><g class=\"xtick\"><text text-anchor=\"middle\" x=\"0\" y=\"233\" style=\"font-family: 'Open Sans', verdana, arial, sans-serif; font-size: 12px; fill: rgb(42, 63, 95); fill-opacity: 1; white-space: pre; opacity: 1;\" transform=\"translate(444.22,0)\">100</text></g><g class=\"xtick\"><text text-anchor=\"middle\" x=\"0\" y=\"233\" style=\"font-family: 'Open Sans', verdana, arial, sans-serif; font-size: 12px; fill: rgb(42, 63, 95); fill-opacity: 1; white-space: pre; opacity: 1;\" transform=\"translate(626.33,0)\">150</text></g><g class=\"xtick\"><text text-anchor=\"middle\" x=\"0\" y=\"233\" style=\"font-family: 'Open Sans', verdana, arial, sans-serif; font-size: 12px; fill: rgb(42, 63, 95); fill-opacity: 1; white-space: pre; opacity: 1;\" transform=\"translate(808.43,0)\">200</text></g><g class=\"xtick\"><text text-anchor=\"middle\" x=\"0\" y=\"233\" style=\"font-family: 'Open Sans', verdana, arial, sans-serif; font-size: 12px; fill: rgb(42, 63, 95); fill-opacity: 1; white-space: pre; opacity: 1;\" transform=\"translate(990.54,0)\">250</text></g><g class=\"xtick\"><text text-anchor=\"middle\" x=\"0\" y=\"233\" style=\"font-family: 'Open Sans', verdana, arial, sans-serif; font-size: 12px; fill: rgb(42, 63, 95); fill-opacity: 1; white-space: pre; opacity: 1;\" transform=\"translate(1172.65,0)\">300</text></g></g><g class=\"yaxislayer-above\"><g class=\"ytick\"><text text-anchor=\"end\" x=\"79\" y=\"4.199999999999999\" transform=\"translate(0,205.95999999999998)\" style=\"font-family: 'Open Sans', verdana, arial, sans-serif; font-size: 12px; fill: rgb(42, 63, 95); fill-opacity: 1; white-space: pre; opacity: 1;\">1200</text></g><g class=\"ytick\"><text text-anchor=\"end\" x=\"79\" y=\"4.199999999999999\" style=\"font-family: 'Open Sans', verdana, arial, sans-serif; font-size: 12px; fill: rgb(42, 63, 95); fill-opacity: 1; white-space: pre; opacity: 1;\" transform=\"translate(0,181.88)\">1400</text></g><g class=\"ytick\"><text text-anchor=\"end\" x=\"79\" y=\"4.199999999999999\" style=\"font-family: 'Open Sans', verdana, arial, sans-serif; font-size: 12px; fill: rgb(42, 63, 95); fill-opacity: 1; white-space: pre; opacity: 1;\" transform=\"translate(0,157.8)\">1600</text></g><g class=\"ytick\"><text text-anchor=\"end\" x=\"79\" y=\"4.199999999999999\" style=\"font-family: 'Open Sans', verdana, arial, sans-serif; font-size: 12px; fill: rgb(42, 63, 95); fill-opacity: 1; white-space: pre; opacity: 1;\" transform=\"translate(0,133.73)\">1800</text></g><g class=\"ytick\"><text text-anchor=\"end\" x=\"79\" y=\"4.199999999999999\" style=\"font-family: 'Open Sans', verdana, arial, sans-serif; font-size: 12px; fill: rgb(42, 63, 95); fill-opacity: 1; white-space: pre; opacity: 1;\" transform=\"translate(0,109.65)\">2000</text></g></g><g class=\"overaxes-above\"/></g></g><g class=\"polarlayer\"/><g class=\"smithlayer\"/><g class=\"ternarylayer\"/><g class=\"geolayer\"/><g class=\"funnelarealayer\"/><g class=\"pielayer\"/><g class=\"iciclelayer\"/><g class=\"treemaplayer\"/><g class=\"sunburstlayer\"/><g class=\"glimages\"/><defs id=\"topdefs-ac0875\"><g class=\"clips\"/></defs><g class=\"layer-above\"><g class=\"imagelayer\"/><g class=\"shapelayer\"/></g><g class=\"infolayer\"><g class=\"g-gtitle\"><text class=\"gtitle\" x=\"65\" y=\"50\" text-anchor=\"start\" dy=\"0em\" style=\"font-family: 'Open Sans', verdana, arial, sans-serif; font-size: 17px; fill: rgb(42, 63, 95); opacity: 1; font-weight: normal; white-space: pre;\">Actual vs Predicted Gold Price</text></g><g class=\"g-xtitle\"><text class=\"xtitle\" x=\"650\" y=\"260.8\" text-anchor=\"middle\" style=\"font-family: 'Open Sans', verdana, arial, sans-serif; font-size: 14px; fill: rgb(42, 63, 95); opacity: 1; font-weight: normal; white-space: pre;\">Period</text></g><g class=\"g-ytitle\"><text class=\"ytitle\" transform=\"rotate(-90,23.684375000000003,160)\" x=\"23.684375000000003\" y=\"160\" text-anchor=\"middle\" style=\"font-family: 'Open Sans', verdana, arial, sans-serif; font-size: 14px; fill: rgb(42, 63, 95); opacity: 1; font-weight: normal; white-space: pre;\">Gold Price (Original Scale)</text></g></g></svg>"
      ]
     },
     "metadata": {},
     "output_type": "display_data"
    }
   ],
   "source": [
    "# Invert the scaled y_test values back to original scale using scaler_y\n",
    "y_test_original = scaler_y.inverse_transform(y_test)\n",
    "\n",
    "# Convert predictions and actual values to DataFrame for easier manipulation\n",
    "results_df = pd.DataFrame({'Actual': y_test_original.flatten(), 'Predicted': predictions.flatten()})\n",
    "\n",
    "# Create a scatter plot\n",
    "fig = go.Figure()\n",
    "\n",
    "fig.add_trace(go.Scatter(x=results_df.index, y=results_df['Actual'], mode='lines', name='Actual'))\n",
    "fig.add_trace(go.Scatter(x=results_df.index, y=results_df['Predicted'], mode='lines', name='Predicted'))\n",
    "\n",
    "fig.update_layout(title='Actual vs Predicted Gold Price',\n",
    "                  xaxis_title='Period',\n",
    "                  yaxis_title='Gold Price (Original Scale)',\n",
    "                  legend=dict(x=0, y=1, traceorder='normal'))\n",
    "\n",
    "fig.update_layout(height=300, width=1300, showlegend=False)\n",
    "\n",
    "fig.show()\n"
   ]
  },
  {
   "cell_type": "code",
   "execution_count": 16,
   "metadata": {
    "scrolled": true
   },
   "outputs": [
    {
     "name": "stdout",
     "output_type": "stream",
     "text": [
      "Mean Squared Error: 0.00706853112205863\n"
     ]
    }
   ],
   "source": [
    "print(f\"Mean Squared Error: {mse}\")"
   ]
  },
  {
   "cell_type": "markdown",
   "metadata": {},
   "source": [
    "### Conclusion"
   ]
  },
  {
   "cell_type": "markdown",
   "metadata": {},
   "source": [
    "MSE value of approximately 0.007 suggests that, on average, the squared difference between the predicted and actual values is very small, indicating that the model performs well in predicting the target variable."
   ]
  },
  {
   "cell_type": "code",
   "execution_count": null,
   "metadata": {},
   "outputs": [],
   "source": []
  }
 ],
 "metadata": {
  "colab": {
   "provenance": []
  },
  "kernelspec": {
   "display_name": "Python 3 (ipykernel)",
   "language": "python",
   "name": "python3"
  },
  "language_info": {
   "codemirror_mode": {
    "name": "ipython",
    "version": 3
   },
   "file_extension": ".py",
   "mimetype": "text/x-python",
   "name": "python",
   "nbconvert_exporter": "python",
   "pygments_lexer": "ipython3",
   "version": "3.11.7"
  }
 },
 "nbformat": 4,
 "nbformat_minor": 4
}
